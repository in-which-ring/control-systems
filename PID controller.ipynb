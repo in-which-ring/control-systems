{
 "cells": [
  {
   "cell_type": "markdown",
   "metadata": {},
   "source": [
    "# Работа 3. PID-регулятор"
   ]
  },
  {
   "cell_type": "markdown",
   "metadata": {},
   "source": [
    "## 1. Описание системы (вариант 4)"
   ]
  },
  {
   "cell_type": "markdown",
   "metadata": {},
   "source": [
    "Маятник – тело с массой $0.3$ кг, моментом инерции относительно оси $a$ кг∙$м^2$, центр его тяжести находится на расстоянии $50$ см от оси, момент силы трения в оси пропорционален угловой скорости вращения с коэффициентом $0.05$."
   ]
  },
  {
   "cell_type": "markdown",
   "metadata": {},
   "source": [
    "Положим $a = 0.15$"
   ]
  },
  {
   "cell_type": "code",
   "execution_count": 1,
   "metadata": {},
   "outputs": [],
   "source": [
    "# m - масса в кг\n",
    "# g - ускорение свободного падения в м/с^2\n",
    "# R - расстояние от оси до центра тяжести в м\n",
    "# k - коэффициент трения (сила трения пропорциональна угловой скорости)\n",
    "# im - момент инерции относительно оси в кг*м:2\n",
    "m, g, R, k, im = 0.3, 10, 0.5, 0.05, 0.15"
   ]
  },
  {
   "cell_type": "markdown",
   "metadata": {},
   "source": [
    "## 2. Дифференциальное уравнение и передаточная функция"
   ]
  },
  {
   "cell_type": "markdown",
   "metadata": {},
   "source": [
    "Согласно 2-ому закону Ньютона\n",
    "$$\n",
    "\\begin{align*}\n",
    "I \\ddot{\\theta} = m g R \\sin{\\theta} - k \\dot{\\theta} + M\n",
    "\\end{align*}\n",
    "$$\n",
    "\n",
    "Считая угол $\\theta$ малым, можем записать\n",
    "$$\n",
    "\\begin{align*}\n",
    "(I p^2 + k p - m g R) \\theta = M\n",
    "\\end{align*}\n",
    "$$\n",
    "\n",
    "Разделив на $I$ обе части уравнения и подставив значения, получаем\n",
    "$$\n",
    "\\begin{align*}\n",
    "(p^2 + \\frac{1}{3} p - 10) \\theta = \\frac{20}{3} M\n",
    "\\end{align*}\n",
    "$$"
   ]
  },
  {
   "cell_type": "code",
   "execution_count": 2,
   "metadata": {},
   "outputs": [],
   "source": [
    "# символ оператора, применяемого к входному сигналу\n",
    "eng_num = [1]\n",
    "\n",
    "# символ оператора, применяемого к выходному сигналу\n",
    "eng_den = [im, k, -m*g*R]"
   ]
  },
  {
   "cell_type": "markdown",
   "metadata": {},
   "source": [
    "Передаточная функция системы равна\n",
    "$$\n",
    "\\begin{align*}\n",
    "W(s) = \\frac{1}{I s^2 + k s - m g R} = \\frac{\\frac{20}{3}}{s^2 + \\frac{1}{3} s - 10}\n",
    "\\end{align*}\n",
    "$$"
   ]
  },
  {
   "cell_type": "markdown",
   "metadata": {},
   "source": [
    "## 3. Уравнения состояния"
   ]
  },
  {
   "cell_type": "code",
   "execution_count": 3,
   "metadata": {},
   "outputs": [],
   "source": [
    "import numpy as np\n",
    "from numpy import linalg\n",
    "from scipy import signal\n",
    "import matplotlib.pyplot as plt"
   ]
  },
  {
   "cell_type": "code",
   "execution_count": 4,
   "metadata": {},
   "outputs": [
    {
     "name": "stdout",
     "output_type": "stream",
     "text": [
      "(array([[-0.33333333, 10.        ],\n",
      "       [ 1.        ,  0.        ]]), array([[1.],\n",
      "       [0.]]), array([[0.        , 6.66666667]]), array([[0.]]))\n"
     ]
    }
   ],
   "source": [
    "# представим систему с помощью уравнений состояния\n",
    "sys = signal.tf2ss(eng_num, eng_den)\n",
    "print(sys)"
   ]
  },
  {
   "cell_type": "markdown",
   "metadata": {},
   "source": [
    "Получаем матрицы\n",
    "$$\n",
    "\\begin{equation*}\n",
    "    A = \\left(\\begin{array}{cc} \n",
    "        -\\frac{1}{3} && 10 \\\\\n",
    "        1 && 0\n",
    "    \\end{array}\\right),\n",
    "    B = \\left(\\begin{array}{c}\n",
    "        1 \\\\\n",
    "        0\n",
    "    \\end{array}\\right),\n",
    "    C = \\left(\\begin{array}{cc}\n",
    "        0 && \\frac{20}{3}\n",
    "    \\end{array}\\right),\n",
    "    D = 0\n",
    "\\end{equation*}\n",
    "$$\n",
    "\n",
    "Другими словами, исходное уравнение равносильно системе\n",
    "$$\n",
    "\\begin{equation*}\n",
    "     \\begin{cases}\n",
    "         \\dot{z_1} = -\\frac{1}{3} z_1 + 10 z_2 + M, \\\\\n",
    "         \\dot{z_2} = z_1, \\\\\n",
    "         \\theta = \\frac{20}{3} z_2\n",
    "     \\end{cases}\n",
    "\\end{equation*}\n",
    "$$\n",
    "\n",
    "Из этой системы получаем\n",
    "$$\n",
    "\\begin{equation*}\n",
    "     \\begin{cases}\n",
    "         z_1 = \\frac{3}{20} \\dot{\\theta}, \\\\\n",
    "         z_2 = \\frac{3}{20} \\theta\n",
    "     \\end{cases}\n",
    "\\end{equation*}\n",
    "$$\n",
    "\n",
    "Таким образом, $z_1$ пропорциональна угловой скорости, $z_2$ пропорциональна углу отклонения"
   ]
  },
  {
   "cell_type": "markdown",
   "metadata": {},
   "source": [
    "## 4. Свободное движение маятника"
   ]
  },
  {
   "cell_type": "code",
   "execution_count": 5,
   "metadata": {
    "scrolled": true
   },
   "outputs": [
    {
     "data": {
      "image/png": "[encoded data removed]",
      "text/plain": [
       "<Figure size 432x288 with 1 Axes>"
      ]
     },
     "metadata": {
      "needs_background": "light"
     },
     "output_type": "display_data"
    }
   ],
   "source": [
    "# задаём временной интервал\n",
    "t = np.linspace(0.0, 2.0, 101)\n",
    "\n",
    "# задаём входной сигнал;\n",
    "sig = np.zeros(t.size)\n",
    "\n",
    "# задаём начальные условия\n",
    "start_pos = np.pi / 180.0\n",
    "init_cond = [0, 3 / 20 * start_pos]\n",
    "\n",
    "# задаём границы применения модели\n",
    "limit = 15 * np.pi / 180.0\n",
    "\n",
    "# пропускаем через систему\n",
    "tout, yout, xout = signal.lsim(sys, sig, t, X0=init_cond)\n",
    "\n",
    "# выводим положение маятника\n",
    "plt.figure()\n",
    "plt.plot(tout, yout, color='black', label='output')\n",
    "plt.axhline(limit, color='r')\n",
    "plt.axhline(-limit, color='r')\n",
    "plt.legend(loc=0)\n",
    "plt.xlabel('t')\n",
    "plt.show()"
   ]
  },
  {
   "cell_type": "markdown",
   "metadata": {},
   "source": [
    "При свободном движении из малого ненулевого угла маятник падает"
   ]
  },
  {
   "cell_type": "markdown",
   "metadata": {},
   "source": [
    "## 5. Система с PID-регулятором"
   ]
  },
  {
   "cell_type": "markdown",
   "metadata": {},
   "source": [
    "Эмпирическим путём было выяснено, что матрицы в пространстве состояний (при использовании signal.tf2ss) выглядят следующим образом\n",
    "$$\n",
    "\\begin{equation*}\n",
    "    \\mathcal{A} = \\left(\\begin{array}{cc} \n",
    "        -(\\frac{1}{3} + \\frac{20}{3} D) && 3 - \\frac{20}{3} P && -\\frac{20}{3} I \\\\\n",
    "        1 && 0 && 0 \\\\\n",
    "        0 && 1 && 0\n",
    "    \\end{array}\\right),\n",
    "    \\mathcal{B} = \\left(\\begin{array}{c}\n",
    "        1 \\\\\n",
    "        0 \\\\\n",
    "        0\n",
    "    \\end{array}\\right),\n",
    "    \\mathcal{C} = \\left(\\begin{array}{cc}\n",
    "        \\frac{20}{3} D && \\frac{20}{3} P && \\frac{20}{3} I\n",
    "    \\end{array}\\right),\n",
    "    \\mathcal{D} = 0\n",
    "\\end{equation*}\n",
    "$$\n",
    "где $P, I, D$ - параметры регулятора  \n",
    "  \n",
    "При отсутствии внешнего воздействия получаем систему\n",
    "$$\n",
    "\\begin{equation*}\n",
    "     \\begin{cases}\n",
    "         \\dot{z_1} = a z_1 + b z_2 + c z_3, \\\\\n",
    "         \\dot{z_2} = z_1, \\\\\n",
    "         \\dot{z_3} = z_2, \\\\\n",
    "         \\theta = d z_1 + e z_2 + f z_3\n",
    "     \\end{cases}\n",
    "\\end{equation*}\n",
    "$$\n",
    "где $a = -\\frac{1 + 20 D}{3}, b = \\frac{60 - 20 P}{3}, c = -\\frac{20 I}{3}, d = \\frac{20 D}{3}, e = \\frac{20 P}{3}, f = \\frac{20 I}{3}$  \n",
    "  \n",
    "Для дальнейшей работы перепишем систему в виде\n",
    "\\begin{equation*}\n",
    "    \\left(\n",
    "        \\begin{array}{cccc}\n",
    "        d && e && f \\\\\n",
    "        d a + e && d b + f && d c \\\\\n",
    "        d a^2 + d b + e a + f && d a b + d c + e b && d a c + e c\n",
    "        \\end{array}\n",
    "    \\right) \\cdot \\left(\\begin{array}{c}\n",
    "        z_1 \\\\\n",
    "        z_2 \\\\\n",
    "        z_3\n",
    "        \\end{array}\n",
    "    \\right) = \\left(\\begin{array}{c}\n",
    "        \\theta \\\\\n",
    "        \\dot{\\theta} \\\\\n",
    "        \\ddot{\\theta}\n",
    "        \\end{array}\n",
    "    \\right)\n",
    "\\end{equation*}"
   ]
  },
  {
   "cell_type": "code",
   "execution_count": 6,
   "metadata": {},
   "outputs": [],
   "source": [
    "def init_cond(P, I, D, pos, vel=0.0, acc=0.0):\n",
    "    \n",
    "    '''Вычисляем начальный вектор в пространстве состояний'''\n",
    "    \n",
    "    # строим матрицу, связывающую переменные в пространстве состояний и производные угла отклонения\n",
    "    a, b, c, d, e, f = -(1+20*D)/3, (60-20*P)/3, -20*I/3, 20*D/3, 20*P/3, 20*I/3\n",
    "    mtrx = np.array([[d, e, f], \n",
    "                     [d*a+e, d*b+f, d*c], \n",
    "                     [d*a*a+d*b+e*a+f, d*a*b+d*c+e*b, d*a*c+e*c]])\n",
    "\n",
    "    return np.linalg.solve(mtrx, [pos, vel, acc])"
   ]
  },
  {
   "cell_type": "code",
   "execution_count": 7,
   "metadata": {},
   "outputs": [
    {
     "data": {
      "image/png": "[encoded data removed]",
      "text/plain": [
       "<Figure size 432x288 with 1 Axes>"
      ]
     },
     "metadata": {
      "needs_background": "light"
     },
     "output_type": "display_data"
    }
   ],
   "source": [
    "# Параметры PID-регулятора подобраны так, \n",
    "# чтобы решением дифференциального уравнения относительно выходного сигнала \n",
    "# была функция вида полином*exp(-3t)\n",
    "P, I, D = 5.55, 4.05, 1.3\n",
    "\n",
    "# задаём начальную позицию\n",
    "start_pos = -15 * np.pi / 180.0\n",
    "\n",
    "# числитель и знаменатель передаточной функции PID-регулятора\n",
    "PID_num = [D, P, I]\n",
    "PID_den = [1, 0]\n",
    "\n",
    "# числитель и знаменатель передаточной функции всей системы\n",
    "total_sys_num = np.convolve(eng_num, PID_num)\n",
    "total_sys_den = np.polyadd(total_sys_num, np.convolve(eng_den, PID_den))\n",
    "\n",
    "# создаём представление системы\n",
    "total_sys = signal.tf2ss(total_sys_num, total_sys_den)\n",
    "\n",
    "# задаём временной интервал\n",
    "t = np.linspace(0.0, 100.0, 10001)\n",
    "\n",
    "# задаём входной сигнал;\n",
    "sig = np.zeros(t.size)\n",
    "\n",
    "# задаём границы применения модели\n",
    "limit = 15 * np.pi / 180.0\n",
    "\n",
    "# пропускаем через систему\n",
    "tout, yout, xout = signal.lsim(total_sys, sig, t, X0=init_cond(P, I, D, start_pos))\n",
    "\n",
    "# выводим положение маятника\n",
    "plt.figure()\n",
    "plt.plot(tout, yout, color='black', label='output')\n",
    "plt.axhline(limit, color='r')\n",
    "plt.axhline(-limit, color='r')\n",
    "plt.legend(loc=0)\n",
    "plt.xlabel('t')\n",
    "plt.show()"
   ]
  }
 ],
 "metadata": {
  "kernelspec": {
   "display_name": "Python 3",
   "language": "python",
   "name": "python3"
  },
  "language_info": {
   "codemirror_mode": {
    "name": "ipython",
    "version": 3
   },
   "file_extension": ".py",
   "mimetype": "text/x-python",
   "name": "python",
   "nbconvert_exporter": "python",
   "pygments_lexer": "ipython3",
   "version": "3.8.5"
  }
 },
 "nbformat": 4,
 "nbformat_minor": 4
}
